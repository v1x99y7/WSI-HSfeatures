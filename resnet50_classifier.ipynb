{
 "cells": [
  {
   "cell_type": "code",
   "execution_count": null,
   "id": "26a84155",
   "metadata": {},
   "outputs": [],
   "source": [
    "import torch\n",
    "from torch import nn, optim\n",
    "from torchvision import transforms, models\n",
    "from torchvision.transforms import ToTensor\n",
    "from torch.utils.data import Dataset, DataLoader, Subset\n",
    "\n",
    "from sklearn.model_selection import train_test_split\n",
    "\n",
    "import os\n",
    "import time\n",
    "import copy\n",
    "import numpy as np\n",
    "from tqdm import tqdm"
   ]
  },
  {
   "cell_type": "code",
   "execution_count": null,
   "id": "0cf175c6",
   "metadata": {},
   "outputs": [],
   "source": [
    "device = 'cuda' if torch.cuda.is_available() else 'cpu'\n",
    "print('Using {} device'.format(device))"
   ]
  },
  {
   "cell_type": "markdown",
   "id": "467b0cb7",
   "metadata": {},
   "source": [
    "# Dataset"
   ]
  },
  {
   "cell_type": "code",
   "execution_count": null,
   "id": "8bfb26e2",
   "metadata": {},
   "outputs": [],
   "source": [
    "class ImageDataset(Dataset):\n",
    "    def __init__(self, img_dir, transform=None, target_transform=None):\n",
    "        self.img_dir = img_dir\n",
    "        self.transform = transform\n",
    "        self.target_transform = target_transform\n",
    "        \n",
    "        imagelist = []\n",
    "        lablelist = []\n",
    "        for folder in os.listdir(img_dir):\n",
    "            for file in os.listdir(os.path.join(img_dir, folder)):\n",
    "                imagelist.append(file)\n",
    "                lablelist.append(folder)\n",
    "        self.imagelist = imagelist\n",
    "        self.lablelist = lablelist\n",
    "        \n",
    "    def __len__(self):\n",
    "        return len(self.imagelist)\n",
    "    \n",
    "    def __getitem__(self, idx):\n",
    "        img_path = os.path.join(self.img_dir, self.lablelist[idx], self.imagelist[idx])       \n",
    "        image = Image.open(img_path)\n",
    "        labels_map = {\"ADI\": 0, \"BACK\": 1, \"DEB\": 2, \"LYM\": 3, \"MUC\": 4, \"MUS\": 5, \"NORM\": 6, \"STR\": 7, \"TUM\": 8}\n",
    "        label = labels_map[self.lablelist[idx]]\n",
    "        if self.transform:\n",
    "            image = self.transform(image)\n",
    "        if self.target_transform:\n",
    "            label = self.target_transform(label)\n",
    "        return image, label"
   ]
  },
  {
   "cell_type": "code",
   "execution_count": null,
   "id": "e7ff8ada",
   "metadata": {},
   "outputs": [],
   "source": [
    "transform = transforms.Compose([\n",
    "    transforms.ToTensor(),\n",
    "    transforms.Normalize(mean=[0.485, 0.456, 0.406], std=[0.229, 0.224, 0.225]),\n",
    "])\n",
    "target_transform = None\n",
    "\n",
    "NCT_CRC_HE_100K = ImageDataset('./NCT-CRC-HE-100K', transform = transform, target_transform = target_transform)"
   ]
  },
  {
   "cell_type": "markdown",
   "id": "72b711bd",
   "metadata": {},
   "source": [
    "# Dataloaders"
   ]
  },
  {
   "cell_type": "code",
   "execution_count": null,
   "id": "4eb54c3c",
   "metadata": {},
   "outputs": [],
   "source": [
    "# 70% training, 15% validation, and 15% testing\n",
    "\n",
    "labels_map = {\"ADI\": 0, \"BACK\": 1, \"DEB\": 2, \"LYM\": 3, \"MUC\": 4, \"MUS\": 5, \"NORM\": 6, \"STR\": 7, \"TUM\": 8}\n",
    "\n",
    "targets = np.arange(len(NCT_CRC_HE_100K))\n",
    "for i in range(len(NCT_CRC_HE_100K)):\n",
    "    targets[i] = labels_map[NCT_CRC_HE_100K.lablelist[i]]\n",
    "\n",
    "train_index, val_test_index = train_test_split(np.arange(len(targets)), test_size=0.3, random_state=0, shuffle=True, stratify=targets)\n",
    "\n",
    "val_test_targets = []\n",
    "sort_val_test_index = sorted(val_test_index)\n",
    "for i in sort_val_test_index:\n",
    "    val_test_targets.append(targets[i])\n",
    "\n",
    "val_index, test_index = train_test_split(sort_val_test_index, test_size=0.5, random_state=0, shuffle=True, stratify=val_test_targets)\n",
    "\n",
    "train_dataset = Subset(NCT_CRC_HE_100K, train_index)\n",
    "val_dataset = Subset(NCT_CRC_HE_100K, val_index)\n",
    "test_dataset = Subset(NCT_CRC_HE_100K, test_index)\n",
    "\n",
    "train_dataloader = DataLoader(train_dataset, batch_size=64, shuffle=True)\n",
    "val_dataloader = DataLoader(val_dataset, batch_size=1, shuffle=False)\n",
    "test_dataloader = DataLoader(test_dataset, batch_size=1, shuffle=False)\n",
    "\n",
    "#print(len(train_dataloader.dataset))\n",
    "#print(len(val_dataloader.dataset))\n",
    "#print(len(test_dataloader.dataset))"
   ]
  },
  {
   "cell_type": "markdown",
   "id": "fb965b11",
   "metadata": {},
   "source": [
    "# Model"
   ]
  },
  {
   "cell_type": "code",
   "execution_count": null,
   "id": "e3162444",
   "metadata": {},
   "outputs": [],
   "source": [
    "# change ResNet50 FC layer\n",
    "\n",
    "model = models.resnet50(pretrained=True)\n",
    "\n",
    "for name, param in model.named_parameters():\n",
    "    param.requires_grad = False\n",
    "    \n",
    "model.fc = nn.Sequential(\n",
    "    nn.Linear(2048, 1024),\n",
    "    nn.Dropout(0.5),\n",
    "    nn.Linear(1024, 9)\n",
    ")"
   ]
  },
  {
   "cell_type": "markdown",
   "id": "83824e13",
   "metadata": {},
   "source": [
    "# Loss"
   ]
  },
  {
   "cell_type": "code",
   "execution_count": null,
   "id": "7606d0a7",
   "metadata": {},
   "outputs": [],
   "source": [
    "loss_fn = nn.CrossEntropyLoss()\n",
    "#print(loss_fn)"
   ]
  },
  {
   "cell_type": "markdown",
   "id": "18ddb95a",
   "metadata": {},
   "source": [
    "# Optimizer"
   ]
  },
  {
   "cell_type": "code",
   "execution_count": null,
   "id": "a99ef7b1",
   "metadata": {},
   "outputs": [],
   "source": [
    "params_to_update = []\n",
    "for name, param in model.named_parameters():\n",
    "    if param.requires_grad == True:\n",
    "        params_to_update.append(param)\n",
    "            \n",
    "optimizer = optim.Adam(params_to_update, lr=0.0001)\n",
    "#print(optimizer)"
   ]
  },
  {
   "cell_type": "markdown",
   "id": "557b3106",
   "metadata": {},
   "source": [
    "# Training"
   ]
  },
  {
   "cell_type": "code",
   "execution_count": null,
   "id": "d38a8316",
   "metadata": {},
   "outputs": [],
   "source": [
    "def train_loop(train_dataloader, val_dataloader, model, loss_fn, optimizer, num_epochs = 50):\n",
    "    since = time.time()\n",
    "    \n",
    "    val_acc_history = []\n",
    "    \n",
    "    best_model_wts = copy.deepcopy(model.state_dict())\n",
    "    best_acc = 0.0\n",
    "    \n",
    "    model = model.to('cuda')\n",
    "    \n",
    "    for epoch in range(num_epochs):\n",
    "        print('Epoch {}/{}'.format(epoch + 1, num_epochs))\n",
    "        print('-' * 10)\n",
    "        \n",
    "        time.sleep(1)\n",
    "        \n",
    "        # Each epoch has a training and validation phase\n",
    "        for phase in ['train', 'val']:\n",
    "            if phase == 'train':\n",
    "                model.train()\n",
    "                dataloader = train_dataloader\n",
    "            else:\n",
    "                model.eval()\n",
    "                dataloader = val_dataloader\n",
    "            \n",
    "            running_loss = 0.0\n",
    "            running_corrects = 0\n",
    "            \n",
    "            # Iterate over data.\n",
    "            for inputs, labels in tqdm(dataloader):\n",
    "                inputs = inputs.to('cuda')\n",
    "                labels = labels.to('cuda')\n",
    "                \n",
    "                # zero the parameter gradients\n",
    "                optimizer.zero_grad()\n",
    "                \n",
    "                with torch.set_grad_enabled(phase == 'train'):\n",
    "                    outputs = model(inputs)\n",
    "                    loss = loss_fn(outputs, labels)\n",
    "                    _, preds = torch.max(outputs, 1)\n",
    "            \n",
    "                    if phase == 'train':\n",
    "                        loss.backward()\n",
    "                        optimizer.step()\n",
    "                    \n",
    "                # statistics\n",
    "                running_loss += loss.item() * inputs.shape[0]\n",
    "                running_corrects += torch.sum(preds == labels)\n",
    "                \n",
    "            epoch_loss = running_loss / len(dataloader.dataset)\n",
    "            epoch_acc = running_corrects.double() / len(dataloader.dataset)\n",
    "            \n",
    "            print('{} Loss: {:.4f} Acc: {:.4f}'.format(phase, epoch_loss, epoch_acc))\n",
    "            \n",
    "            # print(\"deep copy the model\")\n",
    "            if phase == 'val' and epoch_acc > best_acc:\n",
    "                best_acc = epoch_acc\n",
    "                best_model_wts = copy.deepcopy(model.state_dict())\n",
    "            if phase == 'val':\n",
    "                val_acc_history.append(epoch_acc)\n",
    "                \n",
    "            time.sleep(1)\n",
    "                \n",
    "        print('-' * 10)\n",
    "        \n",
    "    time_elapsed = time.time() - since\n",
    "    print('Training complete in {:.0f}m {:.0f}s'.format(time_elapsed // 60, time_elapsed % 60))\n",
    "    print('Best val Acc: {:4f}'.format(best_acc))\n",
    "\n",
    "    # load best model weights\n",
    "    model.load_state_dict(best_model_wts)\n",
    "    return model, val_acc_history"
   ]
  },
  {
   "cell_type": "code",
   "execution_count": null,
   "id": "cf0b2593",
   "metadata": {},
   "outputs": [],
   "source": [
    "model_ft, hist = train_loop(train_dataloader, val_dataloader, model, loss_fn, optimizer)\n",
    "\n",
    "torch.save(model_ft.state_dict(), './resnet50_weights.pth')"
   ]
  },
  {
   "cell_type": "markdown",
   "id": "ff449035",
   "metadata": {},
   "source": [
    "# Testing"
   ]
  },
  {
   "cell_type": "code",
   "execution_count": null,
   "id": "5acc9379",
   "metadata": {},
   "outputs": [],
   "source": [
    "running_loss = 0.0\n",
    "running_corrects = 0\n",
    "\n",
    "model_ft = model_ft.to('cuda')\n",
    "model_ft.eval()\n",
    "\n",
    "for inputs, labels in tqdm(test_dataloader):\n",
    "    inputs = inputs.to('cuda')\n",
    "    labels = labels.to('cuda')\n",
    "                \n",
    "    with torch.set_grad_enabled(False):\n",
    "        outputs = model_ft(inputs)\n",
    "        loss = loss_fn(outputs, labels)\n",
    "        _, preds = torch.max(outputs, 1)\n",
    "                    \n",
    "        # statistics\n",
    "        running_loss += loss.item() * inputs.shape[0]\n",
    "        running_corrects += torch.sum(preds == labels)\n",
    "                \n",
    "epoch_loss = running_loss / len(test_dataloader.dataset)\n",
    "epoch_acc = running_corrects.double() / len(test_dataloader.dataset)\n",
    "            \n",
    "time.sleep(1)\n",
    "    \n",
    "print('Test Loss: {:.4f} Acc: {:.4f}'.format(epoch_loss, epoch_acc))"
   ]
  }
 ],
 "metadata": {
  "kernelspec": {
   "display_name": "Python 3",
   "language": "python",
   "name": "python3"
  },
  "language_info": {
   "codemirror_mode": {
    "name": "ipython",
    "version": 3
   },
   "file_extension": ".py",
   "mimetype": "text/x-python",
   "name": "python",
   "nbconvert_exporter": "python",
   "pygments_lexer": "ipython3",
   "version": "3.6.13"
  }
 },
 "nbformat": 4,
 "nbformat_minor": 5
}
