{
 "cells": [
  {
   "cell_type": "code",
   "execution_count": null,
   "id": "d3ffba5c",
   "metadata": {},
   "outputs": [],
   "source": [
    "import openslide\n",
    "\n",
    "import torch\n",
    "from torch import nn\n",
    "from torchvision import transforms, models\n",
    "\n",
    "import os\n",
    "import copy\n",
    "from tqdm import tqdm\n",
    "import pandas as pd\n",
    "import numpy as np\n",
    "from PIL import Image\n",
    "import cv2"
   ]
  },
  {
   "cell_type": "markdown",
   "id": "bf1cef2b",
   "metadata": {},
   "source": [
    "# Tissue map"
   ]
  },
  {
   "cell_type": "markdown",
   "id": "91f6ea49",
   "metadata": {},
   "source": [
    "## Load model"
   ]
  },
  {
   "cell_type": "code",
   "execution_count": null,
   "id": "4c451332",
   "metadata": {},
   "outputs": [],
   "source": [
    "model = models.resnet50(pretrained=True)\n",
    "\n",
    "model.fc = nn.Sequential(\n",
    "    nn.Linear(2048, 1024),\n",
    "    nn.Dropout(0.5),\n",
    "    nn.Linear(1024, 9)\n",
    ")\n",
    "\n",
    "model.load_state_dict(torch.load('./resnet50_weights.pth'))\n",
    "model = model.to('cuda')\n",
    "model.eval()"
   ]
  },
  {
   "cell_type": "markdown",
   "id": "b447b392",
   "metadata": {},
   "source": [
    "## Transform"
   ]
  },
  {
   "cell_type": "code",
   "execution_count": null,
   "id": "33450c6a",
   "metadata": {},
   "outputs": [],
   "source": [
    "preprocess = transforms.Compose([\n",
    "    transforms.ToTensor(),\n",
    "    transforms.Normalize(mean=[0.485, 0.456, 0.406], std=[0.229, 0.224, 0.225]),\n",
    "])"
   ]
  },
  {
   "cell_type": "markdown",
   "id": "b2381724",
   "metadata": {},
   "source": [
    "## WSI tile classification"
   ]
  },
  {
   "cell_type": "code",
   "execution_count": null,
   "id": "7d2cab62",
   "metadata": {},
   "outputs": [],
   "source": [
    "TCGA_COAD_PATH = './TCGA_COAD'\n",
    "foldername = os.listdir(TCGA_COAD_PATH)"
   ]
  },
  {
   "cell_type": "code",
   "execution_count": null,
   "id": "a7c582fe",
   "metadata": {},
   "outputs": [],
   "source": [
    "pathology_list = pd.read_csv('./pathology_list.csv', index_col = 'pathology')\n",
    "pathology_list_index = list(pathology_list.index)\n",
    "#print(len(pathology_list_index))"
   ]
  },
  {
   "cell_type": "code",
   "execution_count": null,
   "id": "d9fd44c5",
   "metadata": {},
   "outputs": [],
   "source": [
    "TILE = []\n",
    "PATHOLOGY = []\n",
    "WIDTH_TILE = []\n",
    "HEIGHT_TILE = []\n",
    "X_TILE = []\n",
    "Y_TILE = []\n",
    "TISSUE = []\n",
    "\n",
    "for i in tqdm(range(0, len(foldername))):\n",
    "    if os.path.isdir(os.path.join(TCGA_COAD_PATH, foldername[i])):\n",
    "        filename = os.listdir(os.path.join(TCGA_COAD_PATH, foldername[i]))\n",
    "        \n",
    "        for j in range(0, len(filename)):\n",
    "            if filename[j][-3:len(filename[j])] == \"svs\":\n",
    "                if filename[j][0:23] not in pathology_list_index:\n",
    "                    continue\n",
    "                \n",
    "                slide = openslide.OpenSlide(os.path.join(TCGA_COAD_PATH, foldername[i], filename[j]))\n",
    "                try:\n",
    "                    magnification = int(slide.properties['aperio.AppMag'])\n",
    "                except:\n",
    "                    magnification = 20\n",
    "                factor = int(magnification/20)\n",
    "                    \n",
    "                [W, H] = slide.level_dimensions[0]\n",
    "                w = int(W*(20/magnification))\n",
    "                h = int(H*(20/magnification))\n",
    "                tile_number_width = w//224\n",
    "                tile_number_height = h//224\n",
    "                print(f'{filename[j][0:23]}: {tile_number_width}*{tile_number_height}')\n",
    "                \n",
    "                num = 0\n",
    "                for x in range(0, tile_number_width):\n",
    "                    for y in range(0, tile_number_height):\n",
    "                        num = num + 1\n",
    "                        TILE.append(filename[j][0:23] + '_' + str(num))\n",
    "                        PATHOLOGY.append(filename[j][0:23])\n",
    "                        WIDTH_TILE.append(tile_number_width)\n",
    "                        HEIGHT_TILE.append(tile_number_height)\n",
    "                        X_TILE.append(x+1)\n",
    "                        Y_TILE.append(y+1)\n",
    "                        \n",
    "                        location = (x*224*factor, y*224*factor)\n",
    "                        crop = slide.read_region(location = location, level = 0, size = (224*factor, 224*factor))\n",
    "                        crop = crop.convert(\"RGB\")\n",
    "                        crop = crop.resize((224, 224))\n",
    "                \n",
    "                        # predict\n",
    "                        image_tensor = preprocess(crop)\n",
    "                        image_tensor.unsqueeze_(0)\n",
    "                        image_tensor = image_tensor.to('cuda')\n",
    "                        model = model.to('cuda')\n",
    "                        model.eval()\n",
    "                        \n",
    "                        with torch.no_grad():\n",
    "                            output = model(image_tensor)\n",
    "                            _, pred = torch.max(output, 1)\n",
    "                            \n",
    "                        pred = pred.item()\n",
    "                \n",
    "                        TISSUE.append(pred)"
   ]
  },
  {
   "cell_type": "code",
   "execution_count": null,
   "id": "9ca36672",
   "metadata": {},
   "outputs": [],
   "source": [
    "DF = pd.DataFrame({\n",
    "    'tile': TILE,\n",
    "    'pathology': PATHOLOGY,\n",
    "    'width(tile)': WIDTH_TILE,\n",
    "    'height(tile)': HEIGHT_TILE,\n",
    "    'x(tile)': X_TILE,\n",
    "    'y(tile)': Y_TILE,\n",
    "    'tissue': TISSUE\n",
    "})\n",
    "\n",
    "os.mkdir('./WSI_tile_classification')\n",
    "for i in range(0, len(pathology_list_index)):\n",
    "    dataframe = DF[DF['pathology'] == pathology_list_index[i]]\n",
    "    dataframe.to_csv('./WSI_tile_classification/' + pathology_list_index[i] + '_tile_classification.csv', index=False)"
   ]
  },
  {
   "cell_type": "markdown",
   "id": "04f51d8e",
   "metadata": {},
   "source": [
    "## Mapping"
   ]
  },
  {
   "cell_type": "code",
   "execution_count": null,
   "id": "1b473c31",
   "metadata": {},
   "outputs": [],
   "source": [
    "WSI_TILE_CLASSIFICATION_PATH = './WSI_tile_classification'\n",
    "filename = os.listdir(WSI_TILE_CLASSIFICATION_PATH)\n",
    "#print(len(filename))"
   ]
  },
  {
   "cell_type": "markdown",
   "id": "4eef41ea",
   "metadata": {},
   "source": [
    "### tumor"
   ]
  },
  {
   "cell_type": "code",
   "execution_count": null,
   "id": "605455dd",
   "metadata": {},
   "outputs": [],
   "source": [
    "os.mkdir('./tum_mapping')\n",
    "\n",
    "for i in range(0, len(filename)):\n",
    "    # Read csv\n",
    "    dataframe = pd.read_csv(os.path.join(WSI_TILE_CLASSIFICATION_PATH, filename[i]))\n",
    "    pathology = dataframe.at[0, 'pathology']\n",
    "    width = dataframe.at[0, 'width(tile)']\n",
    "    height = dataframe.at[0, 'height(tile)']\n",
    "    \n",
    "    # Create blank image\n",
    "    image = Image.new('L', (width, height), 0)\n",
    "    image_array = np.array(image)\n",
    "    rows, cols = image_array.shape\n",
    "    \n",
    "    # Color tum block\n",
    "    number_of_tile = len(dataframe.index)\n",
    "    x_list = list(dataframe['x(tile)'])\n",
    "    y_list = list(dataframe['y(tile)'])\n",
    "    tissue_list = list(dataframe['tissue'])\n",
    "    \n",
    "    for j in range(0, number_of_tile):\n",
    "        if tissue_list[j] == 8:\n",
    "            image_array[y_list[j]-1, x_list[j]-1] = 255\n",
    "    \n",
    "    image_mapping = Image.fromarray(image_array)\n",
    "    image_mapping.save(os.path.join('./tum_mapping', pathology+'.png'))"
   ]
  },
  {
   "cell_type": "markdown",
   "id": "8a1166d3",
   "metadata": {},
   "source": [
    "#### closing operation"
   ]
  },
  {
   "cell_type": "code",
   "execution_count": null,
   "id": "766c6099",
   "metadata": {},
   "outputs": [],
   "source": [
    "TUM_MAPPING_PATH = './tum_mapping'\n",
    "TMfilename = os.listdir(TUM_MAPPING_PATH)"
   ]
  },
  {
   "cell_type": "code",
   "execution_count": null,
   "id": "256ba5fd",
   "metadata": {},
   "outputs": [],
   "source": [
    "os.mkdir('./tum_closed')\n",
    "\n",
    "for i in range(0, len(TMfilename)):\n",
    "    # Read image\n",
    "    binary = cv2.imread(os.path.join(TUM_MAPPING_PATH, TMfilename[i]), cv2.IMREAD_GRAYSCALE)\n",
    "    \n",
    "    # Closing : connect objects that were mistakenly divided into many small pieces\n",
    "    kernel = cv2.getStructuringElement(cv2.MORPH_RECT, (5, 5)) # Structure Element\n",
    "    closed = cv2.morphologyEx(binary, cv2.MORPH_CLOSE, kernel)\n",
    "    \n",
    "    # Save image\n",
    "    cv2.imwrite(os.path.join('./tum_closed', TMfilename[i][0:23]+'.png'), closed)"
   ]
  },
  {
   "cell_type": "markdown",
   "id": "3a296aab",
   "metadata": {},
   "source": [
    "### lymphocyte"
   ]
  },
  {
   "cell_type": "code",
   "execution_count": null,
   "id": "57b0df5c",
   "metadata": {},
   "outputs": [],
   "source": [
    "os.mkdir('./lym_mapping')\n",
    "\n",
    "for i in range(0, len(filename)):\n",
    "    # Read csv\n",
    "    dataframe = pd.read_csv(os.path.join(WSI_TILE_CLASSIFICATION_PATH, filename[i]))\n",
    "    pathology = dataframe.at[0, 'pathology']\n",
    "    width = dataframe.at[0, 'width(tile)']\n",
    "    height = dataframe.at[0, 'height(tile)']\n",
    "    \n",
    "    # Create blank image\n",
    "    image = Image.new('L', (width, height), 0)\n",
    "    image_array = np.array(image)\n",
    "    rows, cols = image_array.shape\n",
    "    \n",
    "    # Color lym block\n",
    "    number_of_tile = len(dataframe.index)\n",
    "    x_list = list(dataframe['x(tile)'])\n",
    "    y_list = list(dataframe['y(tile)'])\n",
    "    tissue_list = list(dataframe['tissue'])\n",
    "    \n",
    "    for j in range(0, number_of_tile):\n",
    "        if tissue_list[j] == 3:\n",
    "            image_array[y_list[j]-1, x_list[j]-1] = 255\n",
    "    \n",
    "    image_mapping = Image.fromarray(image_array)\n",
    "    image_mapping.save(os.path.join('./lym_mapping', pathology+'.png'))"
   ]
  },
  {
   "cell_type": "markdown",
   "id": "bfea61f9",
   "metadata": {},
   "source": [
    "### stroma"
   ]
  },
  {
   "cell_type": "code",
   "execution_count": null,
   "id": "a5cf9e45",
   "metadata": {},
   "outputs": [],
   "source": [
    "os.mkdir('./stroma_mapping')\n",
    "\n",
    "for i in range(0, len(filename)):\n",
    "    # Read csv\n",
    "    dataframe = pd.read_csv(os.path.join(WSI_TILE_CLASSIFICATION_PATH, filename[i]))\n",
    "    pathology = dataframe.at[0, 'pathology']\n",
    "    width = dataframe.at[0, 'width(tile)']\n",
    "    height = dataframe.at[0, 'height(tile)']\n",
    "    \n",
    "    # Create blank image\n",
    "    image = Image.new('L', (width, height), 0)\n",
    "    image_array = np.array(image)\n",
    "    rows, cols = image_array.shape\n",
    "    \n",
    "    # Color stroma block\n",
    "    number_of_tile = len(dataframe.index)\n",
    "    x_list = list(dataframe['x(tile)'])\n",
    "    y_list = list(dataframe['y(tile)'])\n",
    "    tissue_list = list(dataframe['tissue'])\n",
    "    \n",
    "    for j in range(0, number_of_tile):\n",
    "        if tissue_list[j] == 7:\n",
    "            image_array[y_list[j]-1, x_list[j]-1] = 255\n",
    "    \n",
    "    image_mapping = Image.fromarray(image_array)\n",
    "    image_mapping.save(os.path.join('./stroma_mapping', pathology+'.png'))"
   ]
  },
  {
   "cell_type": "markdown",
   "id": "5f106fbe",
   "metadata": {},
   "source": [
    "#### closing operation"
   ]
  },
  {
   "cell_type": "code",
   "execution_count": null,
   "id": "f304c24e",
   "metadata": {},
   "outputs": [],
   "source": [
    "STROMA_MAPPING_PATH = './stroma_mapping'\n",
    "SMfilename = os.listdir(STROMA_MAPPING_PATH)"
   ]
  },
  {
   "cell_type": "code",
   "execution_count": null,
   "id": "7698e1ba",
   "metadata": {},
   "outputs": [],
   "source": [
    "os.mkdir('./stroma_closed')\n",
    "\n",
    "for i in range(0, len(SMfilename)):\n",
    "    # Read image\n",
    "    binary = cv2.imread(os.path.join(STROMA_MAPPING_PATH, SMfilename[i]), cv2.IMREAD_GRAYSCALE)\n",
    "    \n",
    "    # Closing : connect objects that were mistakenly divided into many small pieces\n",
    "    kernel = cv2.getStructuringElement(cv2.MORPH_RECT, (5, 5)) # Structure Element\n",
    "    closed = cv2.morphologyEx(binary, cv2.MORPH_CLOSE, kernel)\n",
    "    \n",
    "    # Save image\n",
    "    cv2.imwrite(os.path.join('./stroma_closed', SMfilename[i][0:23]+'.png'), closed)"
   ]
  },
  {
   "cell_type": "markdown",
   "id": "fe79a134",
   "metadata": {},
   "source": [
    "# Segmentation features"
   ]
  },
  {
   "cell_type": "code",
   "execution_count": null,
   "id": "bd1e157d",
   "metadata": {},
   "outputs": [],
   "source": [
    "pathology = []\n",
    "\n",
    "for i in range(0, len(TMfilename)):\n",
    "    pathology.append(TMfilename[i][0:23])"
   ]
  },
  {
   "attachments": {},
   "cell_type": "markdown",
   "id": "05921682",
   "metadata": {},
   "source": [
    "## max_tumor_area"
   ]
  },
  {
   "cell_type": "code",
   "execution_count": null,
   "id": "55a7a105",
   "metadata": {},
   "outputs": [],
   "source": [
    "max_tumor_area = []\n",
    "\n",
    "tum_number = []\n",
    "tum_labels = []\n",
    "tum_stats = []\n",
    "\n",
    "for i in range(0, len(pathology)):\n",
    "    # Read image\n",
    "    closed = cv2.imread(os.path.join('./tum_closed', pathology[i]+'.png'), cv2.IMREAD_GRAYSCALE)\n",
    "    \n",
    "    # Connected component analysis\n",
    "    num_labels, labels, stats, centroids = cv2.connectedComponentsWithStats(closed, connectivity=8, ltype=cv2.CV_32S)\n",
    "    tum_number.append(num_labels-1)\n",
    "    tum_labels.append(labels)\n",
    "    tum_stats.append(stats) # x,y,width,height,area\n",
    "    \n",
    "    # max_tumor_area\n",
    "    if num_labels > 1:\n",
    "        max_tumor_area_label = np.argmax(stats[1:,4])+1\n",
    "        max_tumor_area.append(stats[max_tumor_area_label, 4])\n",
    "    else: \n",
    "        max_tumor_area.append(0)"
   ]
  },
  {
   "attachments": {},
   "cell_type": "markdown",
   "id": "0ad974f5",
   "metadata": {},
   "source": [
    "## lymphocyte_inside_tumor"
   ]
  },
  {
   "cell_type": "code",
   "execution_count": null,
   "id": "489c58c8",
   "metadata": {},
   "outputs": [],
   "source": [
    "lymphocyte_inside_tumor = []\n",
    "\n",
    "for i in range(0, len(pathology)):\n",
    "    # Read image\n",
    "    tum_array = cv2.imread(os.path.join('./tum_closed', pathology[i]+'.png'), cv2.IMREAD_GRAYSCALE)\n",
    "    lym_array = cv2.imread(os.path.join('./lym_mapping', pathology[i]+'.png'), cv2.IMREAD_GRAYSCALE)\n",
    "    \n",
    "    # lymphocyte_inside_tumor\n",
    "    lit = 0\n",
    "    for j in range(0, tum_array.shape[0]):\n",
    "        for k in range(0, tum_array.shape[1]):\n",
    "            if tum_array[j,k] == 255 and lym_array[j,k] == 255:\n",
    "                lit = lit + 1\n",
    "                \n",
    "    lymphocyte_inside_tumor.append(lit)"
   ]
  },
  {
   "attachments": {},
   "cell_type": "markdown",
   "id": "c1c4704b",
   "metadata": {},
   "source": [
    "## lymphocyte_around_tumor "
   ]
  },
  {
   "cell_type": "code",
   "execution_count": null,
   "id": "d6e9c3a9",
   "metadata": {},
   "outputs": [],
   "source": [
    "lymphocyte_around_tumor = []\n",
    "\n",
    "for i in range(0, len(pathology)):\n",
    "    stats = copy.deepcopy(tum_stats[i]) # x,y,width,height,area\n",
    "    tum_label = copy.deepcopy(tum_labels[i]) # 0,1,2...\n",
    "    lym_array = cv2.imread(os.path.join('./lym_mapping', pathology[i]+'.png'), cv2.IMREAD_GRAYSCALE) # 0,255\n",
    "    check_array = np.zeros(lym_array.shape, np.uint8)\n",
    "    \n",
    "    # establish check_array\n",
    "    for j in range(1, tum_number[i]+1):\n",
    "        # change the value of tumor j to 255, others to 0\n",
    "        tumor = copy.deepcopy(tum_label)\n",
    "        tumor[tumor != j] = 0\n",
    "        tumor[tumor == j] = 255\n",
    "        \n",
    "        check_size = [20,20]\n",
    "        \n",
    "        for k in range(0, tumor.shape[0]):\n",
    "            for l in range(0, tumor.shape[1]):\n",
    "                if tumor[k,l] == 255:\n",
    "                    y_lower = k - check_size[0]\n",
    "                    if y_lower < 0:\n",
    "                        y_lower = 0\n",
    "                    y_upper = k + check_size[0]\n",
    "                    if y_upper > tumor.shape[0]-1:\n",
    "                        y_upper = tumor.shape[0]-1\n",
    "                    \n",
    "                    x_lower = l - check_size[1]\n",
    "                    if x_lower < 0:\n",
    "                        x_lower = 0\n",
    "                    x_upper = l + check_size[1]\n",
    "                    if x_upper > tumor.shape[1]-1:\n",
    "                        x_upper = tumor.shape[1]-1\n",
    "                    \n",
    "                    for m in range(y_lower, y_upper+1):\n",
    "                        for n in range(x_lower, x_upper+1):\n",
    "                            check_array[m,n] = 255\n",
    "    \n",
    "    check_array[tum_label != 0] = 0\n",
    "    \n",
    "    # lymphocyte_around_tumor\n",
    "    lat = 0\n",
    "    for j in range(0, check_array.shape[0]):\n",
    "        for k in range(0, check_array.shape[1]):\n",
    "            if check_array[j,k] == 255 and lym_array[j,k] == 255:\n",
    "                lat = lat + 1\n",
    "    \n",
    "    lymphocyte_around_tumor.append(lat)"
   ]
  },
  {
   "attachments": {},
   "cell_type": "markdown",
   "id": "6585fba9",
   "metadata": {},
   "source": [
    "## around_inside_ratio"
   ]
  },
  {
   "cell_type": "code",
   "execution_count": null,
   "id": "8c25a47c",
   "metadata": {},
   "outputs": [],
   "source": [
    "around_inside_ratio = []\n",
    "\n",
    "for i in range(0, len(pathology)):\n",
    "    around_inside_ratio.append((lymphocyte_around_tumor[i]+1) / (lymphocyte_inside_tumor[i]+1))"
   ]
  },
  {
   "attachments": {},
   "cell_type": "markdown",
   "id": "ebd33343",
   "metadata": {},
   "source": [
    "## total_stroma_area"
   ]
  },
  {
   "cell_type": "code",
   "execution_count": null,
   "id": "07b008a2",
   "metadata": {},
   "outputs": [],
   "source": [
    "total_stroma_area = []\n",
    "\n",
    "for i in range(0, len(pathology)):\n",
    "    # Read image\n",
    "    closed = cv2.imread(os.path.join('./stroma_closed', pathology[i]+'.png'), cv2.IMREAD_GRAYSCALE)\n",
    "    \n",
    "    # total_stroma_area\n",
    "    total_stroma_area.append(np.count_nonzero(closed))"
   ]
  },
  {
   "cell_type": "markdown",
   "id": "a36cfa51",
   "metadata": {},
   "source": [
    "## OS"
   ]
  },
  {
   "cell_type": "code",
   "execution_count": null,
   "id": "1e7924c2",
   "metadata": {},
   "outputs": [],
   "source": [
    "survival = pd.read_csv('./survival_COAD_survival.csv', index_col = 'sample')\n",
    "\n",
    "OS = []\n",
    "OS_time = []\n",
    "\n",
    "for i in range(0, len(pathology)):\n",
    "    OS.append(survival.at[pathology[i][0:15], 'OS'])\n",
    "    OS_time.append(survival.at[pathology[i][0:15], 'OS.time'])"
   ]
  },
  {
   "cell_type": "markdown",
   "id": "e96f4fad",
   "metadata": {},
   "source": [
    "## Dataframe"
   ]
  },
  {
   "cell_type": "code",
   "execution_count": null,
   "id": "400bb88e",
   "metadata": {},
   "outputs": [],
   "source": [
    "df = pd.DataFrame({\n",
    "    'pathology': pathology,\n",
    "    'max_tumor_area': max_tumor_area,\n",
    "    'lymphocyte_inside_tumor': lymphocyte_inside_tumor,\n",
    "    'lymphocyte_around_tumor': lymphocyte_around_tumor,\n",
    "    'around_inside_ratio': around_inside_ratio,\n",
    "    'total_stroma_area': total_stroma_area,\n",
    "    'OS': OS,\n",
    "    'OS.time': OS_time\n",
    "})"
   ]
  },
  {
   "cell_type": "markdown",
   "id": "4bbbe9b9",
   "metadata": {},
   "source": [
    "# Discretization"
   ]
  },
  {
   "cell_type": "code",
   "execution_count": null,
   "id": "ef467fdb",
   "metadata": {},
   "outputs": [],
   "source": [
    "segmentation_feature = ['max_tumor_area',\n",
    "                        'lymphocyte_inside_tumor',\n",
    "                        'lymphocyte_around_tumor',\n",
    "                        'around_inside_ratio',\n",
    "                        'total_stroma_area']\n",
    "\n",
    "cutpoint = [11854, 245, 388, 0.8581315, 7324]\n",
    "\n",
    "for i in range(0, len(pathology)):\n",
    "    for j in range(0, len(segmentation_feature)):\n",
    "        if df.at[i, segmentation_feature[j]] <= cutpoint[j]:\n",
    "            df.at[i, segmentation_feature[j]] = 0\n",
    "        else:\n",
    "            df.at[i, segmentation_feature[j]] = 1\n",
    "\n",
    "df.to_csv('./segmentation_features.csv', index=False)"
   ]
  }
 ],
 "metadata": {
  "kernelspec": {
   "display_name": "Python 3",
   "language": "python",
   "name": "python3"
  },
  "language_info": {
   "codemirror_mode": {
    "name": "ipython",
    "version": 3
   },
   "file_extension": ".py",
   "mimetype": "text/x-python",
   "name": "python",
   "nbconvert_exporter": "python",
   "pygments_lexer": "ipython3",
   "version": "3.6.13"
  }
 },
 "nbformat": 4,
 "nbformat_minor": 5
}
