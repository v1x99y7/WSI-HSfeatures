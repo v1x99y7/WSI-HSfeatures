{
 "cells": [
  {
   "cell_type": "code",
   "execution_count": null,
   "id": "b5cb7ae1",
   "metadata": {},
   "outputs": [],
   "source": [
    "import openslide\n",
    "\n",
    "import os\n",
    "import shutil\n",
    "import time\n",
    "import gc\n",
    "from tqdm import tqdm\n",
    "\n",
    "from collections import Counter\n",
    "from random import sample\n",
    "import pandas as pd\n",
    "from PIL import Image\n",
    "\n",
    "import torch\n",
    "from torch import nn\n",
    "from torchvision import transforms, models"
   ]
  },
  {
   "cell_type": "code",
   "execution_count": null,
   "id": "507cceb2",
   "metadata": {},
   "outputs": [],
   "source": [
    "TCGA_COAD_PATH = './TCGA_COAD'\n",
    "foldername = os.listdir(TCGA_COAD_PATH)"
   ]
  },
  {
   "cell_type": "code",
   "execution_count": null,
   "id": "cf4c009a",
   "metadata": {},
   "outputs": [],
   "source": [
    "pathology_list = pd.read_csv('./pathology_list.csv', index_col = 'pathology')\n",
    "pathology_list_index = list(pathology_list.index)\n",
    "#print(len(pathology_list_index))"
   ]
  },
  {
   "cell_type": "markdown",
   "id": "5d288119",
   "metadata": {},
   "source": [
    "# Sampling"
   ]
  },
  {
   "cell_type": "code",
   "execution_count": null,
   "id": "faabb466",
   "metadata": {},
   "outputs": [],
   "source": [
    "os.mkdir('./randomsampling')\n",
    "\n",
    "for i in tqdm(range(0, len(foldername))):\n",
    "    print(foldername[i])\n",
    "    \n",
    "    since = time.time()\n",
    "    \n",
    "    if os.path.isdir(os.path.join(TCGA_COAD_PATH, foldername[i])):\n",
    "        filename = os.listdir(os.path.join(TCGA_COAD_PATH, foldername[i]))\n",
    "        for j in range(0, len(filename)):\n",
    "            if filename[j][-3:len(filename[j])] == 'svs':\n",
    "                print(filename[j])\n",
    "                \n",
    "                if filename[j][0:23] not in pathology_list_index:\n",
    "                    print('Discard')\n",
    "                    continue\n",
    "                \n",
    "                os.mkdir(os.path.join('./randomsampling', filename[j][0:23]))\n",
    "                \n",
    "                slide = openslide.OpenSlide(os.path.join(TCGA_COAD_PATH, foldername[i], filename[j]))\n",
    "                \n",
    "                try:\n",
    "                    magnification = int(slide.properties['aperio.AppMag'])\n",
    "                except:\n",
    "                    magnification = 20\n",
    "                \n",
    "                [W, H] = slide.level_dimensions[0]\n",
    "                w = int(W*(20/magnification))\n",
    "                h = int(H*(20/magnification))\n",
    "\n",
    "                total_tile_number = (w//224)*(h//224)\n",
    "                print(f'Slide {i}, {magnification}X, {total_tile_number} tiles')\n",
    "                \n",
    "                # Random sampling 5%\n",
    "                tile_number_list = list(range(1, total_tile_number+1))\n",
    "                tile_number_list = sample(tile_number_list, total_tile_number//20)\n",
    "                \n",
    "                # Save tile\n",
    "                for k in range(0, len(tile_number_list)):\n",
    "                    h_tile_number = h//224\n",
    "                    \n",
    "                    x = tile_number_list[k] // h_tile_number\n",
    "                    y = tile_number_list[k] %  h_tile_number\n",
    "                    \n",
    "                    factor = int(magnification/20) # 20X:1, 40X:2\n",
    "                    if y>0:\n",
    "                        location = (x*224*factor, (y-1)*224*factor)\n",
    "                        crop = slide.read_region(location = location, level = 0, size = (224*factor, 224*factor))\n",
    "                        crop = crop.convert('RGB')\n",
    "                        crop = crop.resize((224, 224))\n",
    "                    elif y == 0:\n",
    "                        location = ((x-1)*224*factor, (h_tile_number-1)*224*factor)\n",
    "                        crop = slide.read_region(location = location, level = 0, size = (224*factor, 224*factor))\n",
    "                        crop = crop.convert('RGB')\n",
    "                        crop = crop.resize((224, 224))\n",
    "                        \n",
    "                    CROP_TILE_PATH = os.path.join('./randomsampling', filename[j][0:23], filename[j][0:23]+'_{:06}.tif')\n",
    "                    crop.save(CROP_TILE_PATH.format(tile_number_list[k]))\n",
    "                \n",
    "                del slide\n",
    "                gc.collect()\n",
    "    \n",
    "    time_elapsed = time.time() - since\n",
    "    print('{:.0f}m {:.0f}s'.format(time_elapsed // 60, time_elapsed % 60))\n",
    "    print('-' * 60)"
   ]
  },
  {
   "cell_type": "markdown",
   "id": "d8353a9d",
   "metadata": {},
   "source": [
    "# Classification"
   ]
  },
  {
   "cell_type": "markdown",
   "id": "32f2960b",
   "metadata": {},
   "source": [
    "## Load model"
   ]
  },
  {
   "cell_type": "code",
   "execution_count": null,
   "id": "d865b7b2",
   "metadata": {},
   "outputs": [],
   "source": [
    "model = models.resnet50(pretrained=True)\n",
    "\n",
    "model.fc = nn.Sequential(\n",
    "    nn.Linear(2048, 1024),\n",
    "    nn.Dropout(0.5),\n",
    "    nn.Linear(1024, 9)\n",
    ")\n",
    "\n",
    "model.load_state_dict(torch.load('./resnet50_weights.pth'))\n",
    "model = model.to('cuda')\n",
    "model.eval()"
   ]
  },
  {
   "cell_type": "markdown",
   "id": "4be550a4",
   "metadata": {},
   "source": [
    "## Transform"
   ]
  },
  {
   "cell_type": "code",
   "execution_count": null,
   "id": "00a2ed7b",
   "metadata": {},
   "outputs": [],
   "source": [
    "preprocess = transforms.Compose([\n",
    "    transforms.ToTensor(),\n",
    "    transforms.Normalize(mean=[0.485, 0.456, 0.406], std=[0.229, 0.224, 0.225]),\n",
    "])"
   ]
  },
  {
   "cell_type": "markdown",
   "id": "6242bd6c",
   "metadata": {},
   "source": [
    "## Predict"
   ]
  },
  {
   "cell_type": "code",
   "execution_count": null,
   "id": "deadbb8c",
   "metadata": {},
   "outputs": [],
   "source": [
    "TCGA_COAD_RS_PATH = './randomsampling'\n",
    "RSfoldername = os.listdir(TCGA_COAD_RS_PATH)"
   ]
  },
  {
   "cell_type": "code",
   "execution_count": null,
   "id": "91e063cb",
   "metadata": {},
   "outputs": [],
   "source": [
    "tilenamelist = []\n",
    "tissuelist = []\n",
    "\n",
    "since = time.time()\n",
    "\n",
    "for i in tqdm(range(0, len(RSfoldername))):\n",
    "    print(RSfoldername[i])\n",
    "    \n",
    "    filename = os.listdir(os.path.join(TCGA_COAD_RS_PATH, RSfoldername[i]))\n",
    "    for j in range(0, len(filename)):\n",
    "        tilenamelist.append(filename[j])\n",
    "        \n",
    "        img_path = os.path.join(TCGA_COAD_RS_PATH, RSfoldername[i], filename[j])\n",
    "        image = Image.open(img_path)\n",
    "        image_tensor = preprocess(image)\n",
    "        image_tensor.unsqueeze_(0)\n",
    "        image_tensor = image_tensor.to('cuda')\n",
    "        \n",
    "        model = model.to('cuda')\n",
    "        model.eval()\n",
    "        \n",
    "        with torch.no_grad():\n",
    "            output = model(image_tensor)\n",
    "            _, pred = torch.max(output, 1)\n",
    "        \n",
    "        pred = pred.item()\n",
    "        \n",
    "        tissuelist.append(pred)\n",
    "        \n",
    "    print('-' * 60)\n",
    "    \n",
    "time_elapsed = time.time() - since\n",
    "print('Total time: {:.0f}m {:.0f}s'.format(time_elapsed // 60, time_elapsed % 60))"
   ]
  },
  {
   "cell_type": "code",
   "execution_count": null,
   "id": "507f2745",
   "metadata": {},
   "outputs": [],
   "source": [
    "store = {\n",
    "    'tile': tilenamelist,\n",
    "    'tissue': tissuelist,\n",
    "}\n",
    "\n",
    "store_df = pd.DataFrame(store)\n",
    "store_df.to_csv('./tissue_labels.csv', index = False)"
   ]
  }
 ],
 "metadata": {
  "kernelspec": {
   "display_name": "Python 3",
   "language": "python",
   "name": "python3"
  },
  "language_info": {
   "codemirror_mode": {
    "name": "ipython",
    "version": 3
   },
   "file_extension": ".py",
   "mimetype": "text/x-python",
   "name": "python",
   "nbconvert_exporter": "python",
   "pygments_lexer": "ipython3",
   "version": "3.6.13"
  }
 },
 "nbformat": 4,
 "nbformat_minor": 5
}
