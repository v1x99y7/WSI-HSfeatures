{
 "cells": [
  {
   "cell_type": "code",
   "execution_count": null,
   "id": "3c04e460",
   "metadata": {},
   "outputs": [],
   "source": [
    "import pandas as pd\n",
    "import numpy as np\n",
    "import statistics\n",
    "\n",
    "from sklearn.cluster import KMeans\n",
    "from sklearn.model_selection import StratifiedKFold\n",
    "\n",
    "from sksurv.linear_model import CoxPHSurvivalAnalysis, CoxnetSurvivalAnalysis\n",
    "from sksurv.svm import FastSurvivalSVM\n",
    "from sksurv.ensemble import RandomSurvivalForest, GradientBoostingSurvivalAnalysis"
   ]
  },
  {
   "cell_type": "markdown",
   "id": "bb82986b",
   "metadata": {},
   "source": [
    "# Histopathological features"
   ]
  },
  {
   "cell_type": "code",
   "execution_count": null,
   "id": "ea83bd8a",
   "metadata": {},
   "outputs": [],
   "source": [
    "df_histopathological_features = pd.read_csv('./histopathological_features.csv')\n",
    "PATHOLOGY = list(df_histopathological_features['pathology'])"
   ]
  },
  {
   "cell_type": "markdown",
   "id": "078c5ad5",
   "metadata": {},
   "source": [
    "## preprocess"
   ]
  },
  {
   "cell_type": "code",
   "execution_count": null,
   "id": "d1163aaa",
   "metadata": {},
   "outputs": [],
   "source": [
    "# tissue: [ADI, BACK, DEB, LYM, MUC, MUS, NORM, STR, TUM]\n",
    "\n",
    "def datapreprocess(dataframe = df_histopathological_features, tissue = [0,0,0,1,1,0,0,1,1], weight = np.ones((455,9)).tolist()):\n",
    "    X = []\n",
    "    y = []\n",
    "    \n",
    "    for i in range(len(dataframe['pathology'])):\n",
    "        \n",
    "        # X\n",
    "        temp = []\n",
    "        for j in range(len(tissue)):\n",
    "            if tissue[j] == 1:\n",
    "                feature = dataframe.iloc[i][12+j*32:12+(j+1)*32].tolist()\n",
    "                temp = temp + [x*weight[i][j] for x in feature]\n",
    "                \n",
    "        X.append(temp)\n",
    "        \n",
    "        # y\n",
    "        OS = dataframe['OS'][i]\n",
    "        OS_time = dataframe['OS.time'][i]\n",
    "        label = (OS, OS_time)\n",
    "        \n",
    "        y.append(label)\n",
    "    \n",
    "    X = np.array(X)\n",
    "    y = np.array(y, dtype=[('OS', '?'), ('OS_time', 'f')])\n",
    "        \n",
    "    return X, y"
   ]
  },
  {
   "cell_type": "code",
   "execution_count": null,
   "id": "8ede59f7",
   "metadata": {},
   "outputs": [],
   "source": [
    "weight = []\n",
    "\n",
    "for i in range(len(PATHOLOGY)):\n",
    "    tile_number_list = df_histopathological_features.iloc[i][3:12].tolist()\n",
    "    tile_number_sum = 0\n",
    "    for j in range(9):\n",
    "        tile_number_sum = tile_number_sum + tile_number_list[j]\n",
    "    \n",
    "    weight.append([x/tile_number_sum for x in tile_number_list])"
   ]
  },
  {
   "cell_type": "code",
   "execution_count": null,
   "id": "992bfd97",
   "metadata": {
    "scrolled": true
   },
   "outputs": [],
   "source": [
    "X_hf, y = datapreprocess(dataframe = df_histopathological_features, tissue = [0,0,0,1,1,0,0,1,1], weight = weight)"
   ]
  },
  {
   "cell_type": "markdown",
   "id": "7ae1deb1",
   "metadata": {},
   "source": [
    "# Segmentation features"
   ]
  },
  {
   "cell_type": "code",
   "execution_count": null,
   "id": "f0c62ca6",
   "metadata": {},
   "outputs": [],
   "source": [
    "df_segmentation_features = pd.read_csv('./segmentation_features.csv', index_col = 'pathology')"
   ]
  },
  {
   "cell_type": "markdown",
   "id": "ae220ba6",
   "metadata": {},
   "source": [
    "## preprocess"
   ]
  },
  {
   "cell_type": "code",
   "execution_count": null,
   "id": "be733d3a",
   "metadata": {},
   "outputs": [],
   "source": [
    "X_sf = []\n",
    "\n",
    "for i in range(len(PATHOLOGY)):\n",
    "    X_sf.append([df_segmentation_features.at[PATHOLOGY[i], 'max_tumor_area'],\n",
    "                 df_segmentation_features.at[PATHOLOGY[i], 'lymphocyte_inside_tumor'],\n",
    "                 df_segmentation_features.at[PATHOLOGY[i], 'lymphocyte_around_tumor'],\n",
    "                 df_segmentation_features.at[PATHOLOGY[i], 'around_inside_ratio'],\n",
    "                 df_segmentation_features.at[PATHOLOGY[i], 'total_stroma_area']])\n",
    "    \n",
    "X_sf = np.array(X_sf)"
   ]
  },
  {
   "cell_type": "markdown",
   "id": "df954b9c",
   "metadata": {},
   "source": [
    "# Concatenation"
   ]
  },
  {
   "cell_type": "code",
   "execution_count": null,
   "id": "bd885c7c",
   "metadata": {},
   "outputs": [],
   "source": [
    "X = np.concatenate((X_hf, X_sf), axis=1)"
   ]
  },
  {
   "cell_type": "markdown",
   "id": "fc619f90",
   "metadata": {},
   "source": [
    "# Fold splitting"
   ]
  },
  {
   "cell_type": "code",
   "execution_count": null,
   "id": "c1a97975",
   "metadata": {},
   "outputs": [],
   "source": [
    "max_tumor_area = []\n",
    "lymphocyte_inside_tumor = []\n",
    "lymphocyte_around_tumor = []\n",
    "around_inside_ratio = []\n",
    "total_stroma_area = []\n",
    "OS = []\n",
    "OS_time = []\n",
    "\n",
    "for i in range(len(PATHOLOGY)):\n",
    "    max_tumor_area.append(df_segmentation_features.at[PATHOLOGY[i], 'max_tumor_area'])\n",
    "    lymphocyte_inside_tumor.append(df_segmentation_features.at[PATHOLOGY[i], 'lymphocyte_inside_tumor'])\n",
    "    lymphocyte_around_tumor.append(df_segmentation_features.at[PATHOLOGY[i], 'lymphocyte_around_tumor'])\n",
    "    around_inside_ratio.append(df_segmentation_features.at[PATHOLOGY[i], 'around_inside_ratio'])\n",
    "    total_stroma_area.append(df_segmentation_features.at[PATHOLOGY[i], 'total_stroma_area'])\n",
    "    OS.append(df_segmentation_features.at[PATHOLOGY[i], 'OS'])\n",
    "    OS_time.append(df_segmentation_features.at[PATHOLOGY[i], 'OS.time'])\n",
    "    \n",
    "df_clustering = pd.DataFrame({\n",
    "    'pathology': PATHOLOGY,\n",
    "    'max_tumor_area': max_tumor_area,\n",
    "    'lymphocyte_inside_tumor': lymphocyte_inside_tumor,\n",
    "    'lymphocyte_around_tumor': lymphocyte_around_tumor,\n",
    "    'around_inside_ratio': around_inside_ratio,\n",
    "    'total_stroma_area': total_stroma_area,\n",
    "    'OS': OS,\n",
    "    'OS.time': OS_time,\n",
    "    'index': np.arange(258),\n",
    "    'label_cluster': np.zeros(258),\n",
    "    'kmeans_cluster': np.zeros(258)\n",
    "})"
   ]
  },
  {
   "cell_type": "markdown",
   "id": "8d7326f9",
   "metadata": {},
   "source": [
    "## label_cluster"
   ]
  },
  {
   "cell_type": "code",
   "execution_count": null,
   "id": "c8e62560",
   "metadata": {},
   "outputs": [],
   "source": [
    "Q1_0 = np.quantile(np.array(df_clustering[df_clustering['OS'] == 0]['OS.time']), 0.25)\n",
    "Q2_0 = np.quantile(np.array(df_clustering[df_clustering['OS'] == 0]['OS.time']), 0.5)\n",
    "Q3_0 = np.quantile(np.array(df_clustering[df_clustering['OS'] == 0]['OS.time']), 0.75)\n",
    "Q2_1 = np.quantile(np.array(df_clustering[df_clustering['OS'] == 1]['OS.time']), 0.5)\n",
    "\n",
    "for i in range(0, len(df_clustering.index)):\n",
    "    if df_clustering.at[i, 'OS'] == 0:\n",
    "        if df_clustering.at[i, 'OS.time'] <= Q1_0:\n",
    "            df_clustering.at[i, 'label_cluster'] = 0\n",
    "        elif df_clustering.at[i, 'OS.time'] > Q1_0 and df_clustering.at[i, 'OS.time'] <= Q2_0:\n",
    "            df_clustering.at[i, 'label_cluster'] = 1\n",
    "        elif df_clustering.at[i, 'OS.time'] > Q2_0 and df_clustering.at[i, 'OS.time'] <= Q3_0:\n",
    "            df_clustering.at[i, 'label_cluster'] = 2\n",
    "        elif df_clustering.at[i, 'OS.time'] > Q3_0:\n",
    "            df_clustering.at[i, 'label_cluster'] = 3\n",
    "        \n",
    "    if df_clustering.at[i, 'OS'] == 1:\n",
    "        if df_clustering.at[i, 'OS.time'] <= Q2_1:\n",
    "            df_clustering.at[i, 'label_cluster'] = 4\n",
    "        else:\n",
    "            df_clustering.at[i, 'label_cluster'] = 5"
   ]
  },
  {
   "cell_type": "markdown",
   "id": "ef882637",
   "metadata": {},
   "source": [
    "## kmeans_cluster"
   ]
  },
  {
   "cell_type": "code",
   "execution_count": null,
   "id": "03bbd3b6",
   "metadata": {},
   "outputs": [],
   "source": [
    "# label_cluster0\n",
    "df_0 = df_clustering[df_clustering['label_cluster'] == 0]\n",
    "X_kmeans_0 = np.array(df_0[['max_tumor_area', 'lymphocyte_inside_tumor', 'lymphocyte_around_tumor', 'around_inside_ratio', 'total_stroma_area']])\n",
    "kmeans_0 = KMeans(n_clusters=4, random_state=0).fit(X_kmeans_0)\n",
    "y_kmeans_0 = kmeans_0.labels_\n",
    "\n",
    "for i in range(0, len(df_0.index)):\n",
    "    index = df_0.iat[i, 8]\n",
    "    \n",
    "    if y_kmeans_0[i] == 0:\n",
    "        df_clustering.at[index, 'kmeans_cluster'] = 0\n",
    "    elif y_kmeans_0[i] == 1:\n",
    "        df_clustering.at[index, 'kmeans_cluster'] = 1\n",
    "    elif y_kmeans_0[i] == 2:\n",
    "        df_clustering.at[index, 'kmeans_cluster'] = 2\n",
    "    elif y_kmeans_0[i] == 3:\n",
    "        df_clustering.at[index, 'kmeans_cluster'] = 3\n",
    "        \n",
    "# label_cluster1\n",
    "df_1 = df_clustering[df_clustering['label_cluster'] == 1]\n",
    "X_kmeans_1 = np.array(df_1[['max_tumor_area', 'lymphocyte_inside_tumor', 'lymphocyte_around_tumor', 'around_inside_ratio', 'total_stroma_area']])\n",
    "kmeans_1 = KMeans(n_clusters=3, random_state=0).fit(X_kmeans_1)\n",
    "y_kmeans_1 = kmeans_1.labels_\n",
    "\n",
    "for i in range(0, len(df_1.index)):\n",
    "    index = df_1.iat[i, 8]\n",
    "    \n",
    "    if y_kmeans_1[i] == 0:\n",
    "        df_clustering.at[index, 'kmeans_cluster'] = 4\n",
    "    elif y_kmeans_1[i] == 1:\n",
    "        df_clustering.at[index, 'kmeans_cluster'] = 5\n",
    "    elif y_kmeans_1[i] == 2:\n",
    "        df_clustering.at[index, 'kmeans_cluster'] = 6\n",
    "\n",
    "# label_cluster2\n",
    "df_2 = df_clustering[df_clustering['label_cluster'] == 2]\n",
    "X_kmeans_2 =np.array(df_2[['max_tumor_area', 'lymphocyte_inside_tumor', 'lymphocyte_around_tumor', 'around_inside_ratio', 'total_stroma_area']])\n",
    "kmeans_2 = KMeans(n_clusters=3, random_state=0).fit(X_kmeans_2)\n",
    "y_kmeans_2 = kmeans_2.labels_\n",
    "\n",
    "for i in range(0, len(df_2.index)):\n",
    "    index = df_2.iat[i, 8]\n",
    "    \n",
    "    if y_kmeans_2[i] == 0:\n",
    "        df_clustering.at[index, 'kmeans_cluster'] = 7\n",
    "    elif y_kmeans_2[i] == 1:\n",
    "        df_clustering.at[index, 'kmeans_cluster'] = 8\n",
    "    elif y_kmeans_2[i] == 2:\n",
    "        df_clustering.at[index, 'kmeans_cluster'] = 9\n",
    "        \n",
    "# label_cluster3\n",
    "df_3 = df_clustering[df_clustering['label_cluster'] == 3]\n",
    "X_kmeans_3 = np.array(df_3[['max_tumor_area', 'lymphocyte_inside_tumor', 'lymphocyte_around_tumor', 'around_inside_ratio', 'total_stroma_area']])\n",
    "kmeans_3 = KMeans(n_clusters=2, random_state=0).fit(X_kmeans_3)\n",
    "y_kmeans_3 = kmeans_3.labels_\n",
    "\n",
    "for i in range(0, len(df_3.index)):\n",
    "    index = df_3.iat[i, 8]\n",
    "    \n",
    "    if y_kmeans_3[i] == 0:\n",
    "        df_clustering.at[index, 'kmeans_cluster'] = 10\n",
    "    elif y_kmeans_3[i] == 1:\n",
    "        df_clustering.at[index, 'kmeans_cluster'] = 11\n",
    "\n",
    "# label_cluster4\n",
    "df_4 = df_clustering[df_clustering['label_cluster'] == 4]\n",
    "X_kmeans_4 = np.array(df_4[['max_tumor_area', 'total_stroma_area', 'lymphocyte_inside_tumor', 'lymphocyte_around_tumor', 'around_inside_ratio']])\n",
    "kmeans_4 = KMeans(n_clusters=3, random_state=0).fit(X_kmeans_4)\n",
    "y_kmeans_4 = kmeans_4.labels_\n",
    "\n",
    "for i in range(0, len(df_4.index)):\n",
    "    index = df_4.iat[i, 8]\n",
    "    \n",
    "    if y_kmeans_4[i] == 0:\n",
    "        df_clustering.at[index, 'kmeans_cluster'] = 12\n",
    "    elif y_kmeans_4[i] == 1:\n",
    "        df_clustering.at[index, 'kmeans_cluster'] = 13\n",
    "    elif y_kmeans_4[i] == 2:\n",
    "        df_clustering.at[index, 'kmeans_cluster'] = 14\n",
    "\n",
    "# label_cluster5\n",
    "df_5 = df_clustering[df_clustering['label_cluster'] == 5]\n",
    "X_kmeans_5 = np.array(df_5[['max_tumor_area', 'lymphocyte_inside_tumor', 'lymphocyte_around_tumor', 'around_inside_ratio', 'total_stroma_area']])\n",
    "kmeans_5 = KMeans(n_clusters=2, random_state=0).fit(X_kmeans_5)\n",
    "y_kmeans_5 = kmeans_5.labels_\n",
    "\n",
    "for i in range(0, len(df_5.index)):\n",
    "    index = df_5.iat[i, 8]\n",
    "    \n",
    "    if y_kmeans_5[i] == 0:\n",
    "        df_clustering.at[index, 'kmeans_cluster'] = 15\n",
    "    elif y_kmeans_5[i] == 1:\n",
    "        df_clustering.at[index, 'kmeans_cluster'] = 16\n",
    "        \n",
    "# kmeans_cluster\n",
    "kmeans_cluster = np.array(df_clustering['kmeans_cluster'])"
   ]
  },
  {
   "cell_type": "markdown",
   "id": "bcdda99a",
   "metadata": {},
   "source": [
    "## Bad folds splitting"
   ]
  },
  {
   "cell_type": "code",
   "execution_count": null,
   "id": "ab9391de",
   "metadata": {},
   "outputs": [],
   "source": [
    "skf = StratifiedKFold(n_splits=5, shuffle=True, random_state=0)\n",
    "split_index = list(skf.split(X, kmeans_cluster))\n",
    "\n",
    "badfolds = np.concatenate((split_index[3][1], split_index[4][1]))\n",
    "df_badfolds = df_clustering.iloc[badfolds]\n",
    "\n",
    "skf_badfolds = StratifiedKFold(n_splits=2, shuffle=True, random_state=0)\n",
    "k = 3\n",
    "for remain, newfold_index in skf_badfolds.split(badfolds, df_badfolds['OS']):\n",
    "    split_index[k] = (np.setdiff1d(np.arange(258), badfolds[newfold_index]), np.sort(badfolds[newfold_index]))\n",
    "    k = k + 1"
   ]
  },
  {
   "cell_type": "markdown",
   "id": "61ff2f54",
   "metadata": {},
   "source": [
    "# Survival model"
   ]
  },
  {
   "cell_type": "code",
   "execution_count": null,
   "id": "5bd2e305",
   "metadata": {},
   "outputs": [],
   "source": [
    "def lasso_cox(X, y, split_index):\n",
    "    \n",
    "    test_c_index = []\n",
    "    for train_index, test_index in split_index:\n",
    "        X_train, X_test = X[train_index], X[test_index]\n",
    "        y_train, y_test = y[train_index], y[test_index]\n",
    "        \n",
    "        cox_lasso = CoxnetSurvivalAnalysis(l1_ratio=1.0, max_iter=100000)\n",
    "        cox_lasso.fit(X_train, y_train)\n",
    "        test_c_index.append(cox_lasso.score(X_test, y_test))\n",
    "        \n",
    "    return(test_c_index)"
   ]
  },
  {
   "cell_type": "code",
   "execution_count": null,
   "id": "1788a3db",
   "metadata": {},
   "outputs": [],
   "source": [
    "def ridge_cox(X, y, split_index):\n",
    "    \n",
    "    test_c_index = []\n",
    "    for train_index, test_index in split_index:\n",
    "        X_train, X_test = X[train_index], X[test_index]\n",
    "        y_train, y_test = y[train_index], y[test_index]\n",
    "        \n",
    "        cox_ridge = CoxPHSurvivalAnalysis(alpha=1e-2, n_iter=100)\n",
    "        cox_ridge.fit(X_train, y_train)\n",
    "        test_c_index.append(cox_ridge.score(X_test, y_test))\n",
    "        \n",
    "    return(test_c_index)"
   ]
  },
  {
   "cell_type": "code",
   "execution_count": null,
   "id": "8013e30e",
   "metadata": {},
   "outputs": [],
   "source": [
    "def en_cox(X, y, split_index):\n",
    "    \n",
    "    test_c_index = []\n",
    "    for train_index, test_index in split_index:\n",
    "        X_train, X_test = X[train_index], X[test_index]\n",
    "        y_train, y_test = y[train_index], y[test_index]\n",
    "        \n",
    "        cox_en = CoxnetSurvivalAnalysis(l1_ratio=0.9, max_iter=100000)\n",
    "        cox_en.fit(X_train, y_train)\n",
    "        test_c_index.append(cox_en.score(X_test, y_test))\n",
    "        \n",
    "    return(test_c_index)"
   ]
  },
  {
   "cell_type": "code",
   "execution_count": null,
   "id": "d73c4de4",
   "metadata": {},
   "outputs": [],
   "source": [
    "def survival_svm(X, y, split_index):\n",
    "    \n",
    "    test_c_index = []\n",
    "    for train_index, test_index in split_index:\n",
    "        X_train, X_test = X[train_index], X[test_index]\n",
    "        y_train, y_test = y[train_index], y[test_index]\n",
    "        \n",
    "        ssvm = FastSurvivalSVM(random_state=0)\n",
    "        ssvm.fit(X_train, y_train)\n",
    "        test_c_index.append(ssvm.score(X_test, y_test))\n",
    "        \n",
    "    return(test_c_index)"
   ]
  },
  {
   "cell_type": "code",
   "execution_count": null,
   "id": "f209c931",
   "metadata": {},
   "outputs": [],
   "source": [
    "def random_survival_forest(X, y, split_index):\n",
    "    \n",
    "    test_c_index = []\n",
    "    for train_index, test_index in split_index:\n",
    "        X_train, X_test = X[train_index], X[test_index]\n",
    "        y_train, y_test = y[train_index], y[test_index]\n",
    "        \n",
    "        rsf = RandomSurvivalForest(random_state=0)\n",
    "        rsf.fit(X_train, y_train)\n",
    "        test_c_index.append(rsf.score(X_test, y_test))\n",
    "        \n",
    "    return(test_c_index)"
   ]
  },
  {
   "cell_type": "code",
   "execution_count": null,
   "id": "83f6463a",
   "metadata": {},
   "outputs": [],
   "source": [
    "def gradient_boosting(X, y, split_index):\n",
    "    \n",
    "    test_c_index = []\n",
    "    for train_index, test_index in split_index:\n",
    "        X_train, X_test = X[train_index], X[test_index]\n",
    "        y_train, y_test = y[train_index], y[test_index]\n",
    "        \n",
    "        gbrt = GradientBoostingSurvivalAnalysis(random_state=0)\n",
    "        gbrt.fit(X_train, y_train)\n",
    "        test_c_index.append(gbrt.score(X_test, y_test))\n",
    "        \n",
    "    return(test_c_index)"
   ]
  },
  {
   "cell_type": "markdown",
   "id": "3d607f3d",
   "metadata": {},
   "source": [
    "## 5-fold cv result"
   ]
  },
  {
   "cell_type": "code",
   "execution_count": null,
   "id": "ff8701e6",
   "metadata": {},
   "outputs": [],
   "source": [
    "LASSO_Cox = lasso_cox(X, y, split_index)\n",
    "Ridge_Cox = ridge_cox(X, y, split_index)\n",
    "EN_Cox = en_cox(X, y, split_index)\n",
    "SSVM = survival_svm(X, y, split_index)\n",
    "RSF = random_survival_forest(X, y, split_index)\n",
    "GBRT = gradient_boosting(X, y, split_index)\n",
    "\n",
    "print('Folds result:')\n",
    "print(f'    LASSO_Cox: {LASSO_Cox}')\n",
    "print(f'    Ridge_Cox: {Ridge_Cox}')\n",
    "print(f'    EN_Cox:    {EN_Cox}')\n",
    "print(f'    SSVM:      {SSVM}')\n",
    "print(f'    RSF:       {RSF}')\n",
    "print(f'    GBRT:      {GBRT}')\n",
    "FOLDS_AVERAGE = []\n",
    "for i in range(0, 5):\n",
    "    FOLDS_AVERAGE.append((LASSO_Cox[i]+Ridge_Cox[i]+EN_Cox[i]+SSVM[i]+RSF[i]+GBRT[i])/6)\n",
    "print(f'    Average:   {FOLDS_AVERAGE}')\n",
    "\n",
    "print()\n",
    "\n",
    "print('Folds average:')\n",
    "print(f'    LASSO_Cox: {statistics.mean(LASSO_Cox)}')\n",
    "print(f'    Ridge_Cox: {statistics.mean(Ridge_Cox)}')\n",
    "print(f'    EN_Cox:    {statistics.mean(EN_Cox)}')\n",
    "print(f'    SSVM:      {statistics.mean(SSVM)}')\n",
    "print(f'    RSF:       {statistics.mean(RSF)}')\n",
    "print(f'    GBRT:      {statistics.mean(GBRT)}')\n",
    "AVERAGE = (statistics.mean(LASSO_Cox)+statistics.mean(Ridge_Cox)+statistics.mean(EN_Cox)+statistics.mean(SSVM)+statistics.mean(RSF)+statistics.mean(GBRT))/6\n",
    "print(f'    Average:   {AVERAGE}')"
   ]
  }
 ],
 "metadata": {
  "kernelspec": {
   "display_name": "Python 3",
   "language": "python",
   "name": "python3"
  },
  "language_info": {
   "codemirror_mode": {
    "name": "ipython",
    "version": 3
   },
   "file_extension": ".py",
   "mimetype": "text/x-python",
   "name": "python",
   "nbconvert_exporter": "python",
   "pygments_lexer": "ipython3",
   "version": "3.6.13"
  }
 },
 "nbformat": 4,
 "nbformat_minor": 5
}
